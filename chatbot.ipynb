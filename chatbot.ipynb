{
  "nbformat": 4,
  "nbformat_minor": 0,
  "metadata": {
    "colab": {
      "provenance": [],
      "authorship_tag": "ABX9TyPOsAr5sYTN2Bw15WHPXat1",
      "include_colab_link": true
    },
    "kernelspec": {
      "name": "python3",
      "display_name": "Python 3"
    },
    "language_info": {
      "name": "python"
    }
  },
  "cells": [
    {
      "cell_type": "markdown",
      "metadata": {
        "id": "view-in-github",
        "colab_type": "text"
      },
      "source": [
        "<a href=\"https://colab.research.google.com/github/POOJA-BFRS01535/chatbot/blob/main/chatbot.ipynb\" target=\"_parent\"><img src=\"https://colab.research.google.com/assets/colab-badge.svg\" alt=\"Open In Colab\"/></a>"
      ]
    },
    {
      "cell_type": "code",
      "execution_count": 1,
      "metadata": {
        "colab": {
          "base_uri": "https://localhost:8080/"
        },
        "id": "5GmousiuEzAU",
        "outputId": "daa5ace7-31d3-4090-8de1-d0ffe0000a54"
      },
      "outputs": [
        {
          "output_type": "stream",
          "name": "stdout",
          "text": [
            "\u001b[2K     \u001b[90m━━━━━━━━━━━━━━━━━━━━━━━━━━━━━━━━━━━━━━━━\u001b[0m \u001b[32m320.6/320.6 kB\u001b[0m \u001b[31m5.5 MB/s\u001b[0m eta \u001b[36m0:00:00\u001b[0m\n",
            "\u001b[2K     \u001b[90m━━━━━━━━━━━━━━━━━━━━━━━━━━━━━━━━━━━━━━━━\u001b[0m \u001b[32m75.6/75.6 kB\u001b[0m \u001b[31m7.7 MB/s\u001b[0m eta \u001b[36m0:00:00\u001b[0m\n",
            "\u001b[2K     \u001b[90m━━━━━━━━━━━━━━━━━━━━━━━━━━━━━━━━━━━━━━━━\u001b[0m \u001b[32m77.9/77.9 kB\u001b[0m \u001b[31m8.0 MB/s\u001b[0m eta \u001b[36m0:00:00\u001b[0m\n",
            "\u001b[2K     \u001b[90m━━━━━━━━━━━━━━━━━━━━━━━━━━━━━━━━━━━━━━━━\u001b[0m \u001b[32m58.3/58.3 kB\u001b[0m \u001b[31m6.2 MB/s\u001b[0m eta \u001b[36m0:00:00\u001b[0m\n",
            "\u001b[?25hMounted at /content/drive\n",
            "OPENAI_API_Key.txt\n"
          ]
        }
      ],
      "source": [
        "# Install OpenAI library\n",
        "!pip install -U -q openai tenacity\n",
        "\n",
        "from google.colab import drive\n",
        "drive.mount('/content/drive')\n",
        "\n",
        "import os\n",
        "os.chdir('/content/drive/MyDrive/upgrad/GenAI_Course_Master/Chatbot_Project/')\n",
        "!ls\n",
        "\n",
        "# Import the libraries\n",
        "import pandas as pd\n",
        "from IPython.display import display, HTML\n",
        "# Set the display width to control the output width\n",
        "pd.set_option('display.width', 100)\n",
        "# Read the dataset and read the Laptop Dataset\n",
        "\n"
      ]
    },
    {
      "cell_type": "code",
      "source": [
        "# Import the libraries\n",
        "import os, json, ast\n",
        "import openai\n",
        "from tenacity import retry, wait_random_exponential, stop_after_attempt\n",
        "\n",
        "# read the OpenAI API key\n",
        "openai.api_key = open(\"OPENAI_API_Key.txt\", \"r\").read().strip()\n",
        "os.environ['OPENAI_API_KEY'] = openai.api_key"
      ],
      "metadata": {
        "id": "vEd32HLQHE-h"
      },
      "execution_count": null,
      "outputs": []
    },
    {
      "cell_type": "code",
      "source": [
        "INTENTS = {\n",
        "    \"order_status\": [\"order status\", \"track my order\", \"where is my order\"],\n",
        "    \"product_info\": [\"tell me about\", \"product details\", \"product info\"],\n",
        "    \"return_policy\": [\"return policy\", \"how to return\", \"refund policy\"],\n",
        "    \"shipping_info\": [\"shipping details\", \"delivery time\", \"shipping info\"],\n",
        "}\n"
      ],
      "metadata": {
        "id": "Lq8YJLZFHhHS"
      },
      "execution_count": 20,
      "outputs": []
    },
    {
      "cell_type": "code",
      "source": [
        "print(INTENTS.keys())\n"
      ],
      "metadata": {
        "colab": {
          "base_uri": "https://localhost:8080/"
        },
        "id": "cLGCa8e8I0dP",
        "outputId": "a2f033eb-fa53-444e-e832-f4c29966e997"
      },
      "execution_count": 21,
      "outputs": [
        {
          "output_type": "stream",
          "name": "stdout",
          "text": [
            "dict_keys(['order_status', 'product_info', 'return_policy', 'shipping_info'])\n"
          ]
        }
      ]
    },
    {
      "cell_type": "code",
      "source": [
        "def initialize_conversation():\n",
        "    '''\n",
        "    Returns a list [{\"role\": \"system\", \"content\": system_message}]\n",
        "    '''\n",
        "\n",
        "    delimiter = \"####\"\n",
        "\n",
        "    system_message = f\"\"\"\n",
        "    You are an experienced customer support agent for an ecommerce direct to customer brand and your goal is to handle customer support queries of customers.\n",
        "    You will be handling 5 types of user queries. Check user order, check status of shipment, get product info, answer questions about return and refund policy.\n",
        "    In case user asks questions which you do not know how to handle redirect user to manual customer support.\n",
        "\n",
        "    You need to ask relevant questions and understand the user intent first and reply back with what is user intent out of below intents.\n",
        "    If you are unable to identify intent continue the conversation till you find the intent.\n",
        "    In below dictionary, keys are intents and the list of values for each key represent some sample input which user can give for that intent.\n",
        "    Based on these sample inputs identify the intent of user.\n",
        "    {delimiter}\n",
        "    {INTENTS}\n",
        "    {delimiter}\n",
        "\n",
        "    Your output should be a single word intent out of {INTENTS.keys()}. If you are unable to identify indent then continue conversation with user.\n",
        "\n",
        "    {delimiter}\n",
        "\n",
        "    \"\"\"\n",
        "    conversation = [{\"role\": \"system\", \"content\": system_message}]\n",
        "    return conversation\n",
        "\n"
      ],
      "metadata": {
        "id": "yTPGFfB-HT8m"
      },
      "execution_count": 22,
      "outputs": []
    },
    {
      "cell_type": "code",
      "source": [
        "# Define a Chat Completions API call\n",
        "# Retry up to 6 times with exponential backoff, starting at 1 second and maxing out at 20 seconds delay\n",
        "@retry(wait=wait_random_exponential(min=1, max=20), stop=stop_after_attempt(6))\n",
        "def get_chat_completions(input, json_format = False):\n",
        "    MODEL = 'gpt-3.5-turbo'\n",
        "\n",
        "    system_message_json_output = \"\"\"<<. Return output in JSON format to the key output.>>\"\"\"\n",
        "\n",
        "    # If the output is required to be in JSON format\n",
        "    if json_format == True:\n",
        "        # Append the input prompt to include JSON response as specified by OpenAI\n",
        "        input[0]['content'] += system_message_json_output\n",
        "\n",
        "        # JSON return type specified\n",
        "        chat_completion_json = openai.chat.completions.create(\n",
        "            model = MODEL,\n",
        "            messages = input,\n",
        "            response_format = { \"type\": \"json_object\"},\n",
        "            seed = 1121)\n",
        "\n",
        "        output = json.loads(chat_completion_json.choices[0].message.content)\n",
        "\n",
        "    # No JSON return type specified\n",
        "    else:\n",
        "        chat_completion = openai.chat.completions.create(\n",
        "            model = MODEL,\n",
        "            messages = input,\n",
        "            seed = 1211)\n",
        "\n",
        "        output = chat_completion.choices[0].message.content\n",
        "\n",
        "    return output"
      ],
      "metadata": {
        "id": "I9zdS4DrJc_w"
      },
      "execution_count": 23,
      "outputs": []
    },
    {
      "cell_type": "code",
      "source": [
        "system_msg = initialize_conversation()\n",
        "debug_conversation = system_msg\n",
        "print(system_msg[0][\"content\"])"
      ],
      "metadata": {
        "colab": {
          "base_uri": "https://localhost:8080/"
        },
        "id": "u8MJV-oBJqAJ",
        "outputId": "37e7af3d-6544-4cc4-a805-e2da54090eb0"
      },
      "execution_count": 24,
      "outputs": [
        {
          "output_type": "stream",
          "name": "stdout",
          "text": [
            "\n",
            "    You are an experienced customer support agent for an ecommerce direct to customer brand and your goal is to handle customer support queries of customers. \n",
            "    You will be handling 5 types of user queries. Check user order, check status of shipment, get product info, answer questions about return and refund policy.\n",
            "    In case user asks questions which you do not know how to handle redirect user to manual customer support.\n",
            "    \n",
            "    You need to ask relevant questions and understand the user intent first and reply back with what is user intent out of below intents. \n",
            "    If you are unable to identify intent continue the conversation till you find the intent. \n",
            "    In below dictionary, keys are intents and the list of values for each key represent some sample input which user can give for that intent. \n",
            "    Based on these sample inputs identify the intent of user.\n",
            "    ####\n",
            "    {'order_status': ['order status', 'track my order', 'where is my order'], 'product_info': ['tell me about', 'product details', 'product info'], 'return_policy': ['return policy', 'how to return', 'refund policy'], 'shipping_info': ['shipping details', 'delivery time', 'shipping info']}\n",
            "    ####\n",
            "\n",
            "    Your output should be a single word intent out of dict_keys(['order_status', 'product_info', 'return_policy', 'shipping_info']). If you are unable to identify indent then continue conversation with user. \n",
            "    \n",
            "    ####\n",
            "\n",
            "    \n"
          ]
        }
      ]
    },
    {
      "cell_type": "code",
      "source": [
        "user_input1 = \"Hi\"\n",
        "debug_conversation.append({'role':'user','content':user_input1})\n",
        "\n",
        "debug_response_assistant = get_chat_completions(debug_conversation) ## Chat Completions API\n"
      ],
      "metadata": {
        "id": "fTdIPaIDJ0hx"
      },
      "execution_count": 25,
      "outputs": []
    },
    {
      "cell_type": "code",
      "source": [
        "debug_conversation.append(({\"role\": \"assistant\", \"content\": debug_response_assistant}))\n"
      ],
      "metadata": {
        "id": "tEV6SA5qLP4o"
      },
      "execution_count": 26,
      "outputs": []
    },
    {
      "cell_type": "code",
      "source": [
        "debug_conversation"
      ],
      "metadata": {
        "colab": {
          "base_uri": "https://localhost:8080/"
        },
        "id": "EWQcRA4MLWS-",
        "outputId": "edbf1d62-4ae5-4270-c0cc-53857aee2174"
      },
      "execution_count": 28,
      "outputs": [
        {
          "output_type": "execute_result",
          "data": {
            "text/plain": [
              "[{'role': 'system',\n",
              "  'content': \"\\n    You are an experienced customer support agent for an ecommerce direct to customer brand and your goal is to handle customer support queries of customers. \\n    You will be handling 5 types of user queries. Check user order, check status of shipment, get product info, answer questions about return and refund policy.\\n    In case user asks questions which you do not know how to handle redirect user to manual customer support.\\n    \\n    You need to ask relevant questions and understand the user intent first and reply back with what is user intent out of below intents. \\n    If you are unable to identify intent continue the conversation till you find the intent. \\n    In below dictionary, keys are intents and the list of values for each key represent some sample input which user can give for that intent. \\n    Based on these sample inputs identify the intent of user.\\n    ####\\n    {'order_status': ['order status', 'track my order', 'where is my order'], 'product_info': ['tell me about', 'product details', 'product info'], 'return_policy': ['return policy', 'how to return', 'refund policy'], 'shipping_info': ['shipping details', 'delivery time', 'shipping info']}\\n    ####\\n\\n    Your output should be a single word intent out of dict_keys(['order_status', 'product_info', 'return_policy', 'shipping_info']). If you are unable to identify indent then continue conversation with user. \\n    \\n    ####\\n\\n    \"},\n",
              " {'role': 'user', 'content': 'Hi'},\n",
              " {'role': 'assistant', 'content': 'Hi there! How can I assist you today?'}]"
            ]
          },
          "metadata": {},
          "execution_count": 28
        }
      ]
    },
    {
      "cell_type": "code",
      "source": [
        "user_input2 = \"I want to know more about refund policy\"\n",
        "debug_conversation.append({'role':'user','content':user_input2})\n",
        "\n",
        "debug_response_assistant = get_chat_completions(debug_conversation) ## Chat Completions API\n",
        "print(debug_response_assistant)\n",
        "\n"
      ],
      "metadata": {
        "colab": {
          "base_uri": "https://localhost:8080/"
        },
        "id": "pb-ImttRNyE-",
        "outputId": "aa756381-b65f-46e7-d088-0806e6178547"
      },
      "execution_count": 29,
      "outputs": [
        {
          "output_type": "stream",
          "name": "stdout",
          "text": [
            "return_policy\n"
          ]
        }
      ]
    },
    {
      "cell_type": "code",
      "source": [
        "def check_intent_identified(assistant_response):\n",
        "  if assistant_response in INTENTS.keys():\n",
        "    return True\n",
        "\n",
        "print(check_intent_identified(debug_response_assistant))\n"
      ],
      "metadata": {
        "colab": {
          "base_uri": "https://localhost:8080/"
        },
        "id": "x_Ba3qIFQPIl",
        "outputId": "5180a128-e052-41df-b54b-b1d128bc2b7a"
      },
      "execution_count": 31,
      "outputs": [
        {
          "output_type": "stream",
          "name": "stdout",
          "text": [
            "True\n"
          ]
        }
      ]
    },
    {
      "cell_type": "code",
      "source": [
        "def get_order_info():\n",
        "  \"\"\"\n",
        "  get order id from user - get_order_id\n",
        "  once obtained - pull out order info from db/shopify API and make it json. - extract_order_info\n",
        "  Based on what user asked prepare response - prepare_order_response\n",
        "  \"\"\"\n",
        "  pass\n",
        "\n",
        "def get_product_info():\n",
        "  \"\"\"\n",
        "  get ecommerce site url from settings for example phool.co\n",
        "  first check what user has asked. Form a seach query for it. create_search_query\n",
        "  Then go to website of the ecommerce company and search for the product in it. perform_search\n",
        "  then formulate the results and respond back - respond_to_user_query\n",
        "  \"\"\"\n",
        "  pass\n",
        "\n",
        "def get_return_policy_info():\n",
        "  \"\"\"\n",
        "  get details of return and refund policy of company from urls of the pages in their websites in settings - prepare_refund_return_policy\n",
        "  answer user query based on the return and refund policy - return_return_refund_policy_info\n",
        "  \"\"\"\n",
        "  pass\n",
        "\n",
        "def get_shipment_info():\n",
        "  \"\"\"\n",
        "  get shipment awb no from user -\n",
        "  \"\"\"\n",
        "  pass\n"
      ],
      "metadata": {
        "id": "aVDQhXBoSbLb"
      },
      "execution_count": null,
      "outputs": []
    },
    {
      "cell_type": "code",
      "source": [
        "INTENT_to_action_map = {\n",
        "    \"order_status\": get_order_info,\n",
        "    \"product_info\": get_product_info,\n",
        "    \"return_policy\": get_return_policy_info,\n",
        "    \"shipping_info\": get_shipment_info,\n",
        "}\n",
        "\n",
        "if (check_intent_identified):\n",
        "  action = INTENT_to_action_map.get(debug_response_assistant)\n",
        "  action()\n",
        "else:\n",
        "  debug_conversation.append(({\"role\": \"assistant\", \"content\": debug_response_assistant}))\n"
      ],
      "metadata": {
        "id": "rorBM0BTQ3Lt"
      },
      "execution_count": null,
      "outputs": []
    }
  ]
}